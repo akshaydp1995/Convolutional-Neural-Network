{
  "nbformat": 4,
  "nbformat_minor": 0,
  "metadata": {
    "colab": {
      "name": "Untitled18.ipynb",
      "version": "0.3.2",
      "provenance": [],
      "collapsed_sections": [],
      "include_colab_link": true
    },
    "kernelspec": {
      "name": "python3",
      "display_name": "Python 3"
    },
    "accelerator": "GPU"
  },
  "cells": [
    {
      "cell_type": "markdown",
      "metadata": {
        "id": "view-in-github",
        "colab_type": "text"
      },
      "source": [
        "<a href=\"https://colab.research.google.com/github/akshaydp1995/Convolutional-Neural-Network/blob/master/CIFAR_10_CNN.ipynb\" target=\"_parent\"><img src=\"https://colab.research.google.com/assets/colab-badge.svg\" alt=\"Open In Colab\"/></a>"
      ]
    },
    {
      "cell_type": "code",
      "metadata": {
        "id": "rXmr5rVXhTrp",
        "colab_type": "code",
        "colab": {
          "base_uri": "https://localhost:8080/",
          "height": 34
        },
        "outputId": "51056355-8bba-4eab-c7f4-a4aba1719fc0"
      },
      "source": [
        "from sklearn.preprocessing import LabelBinarizer\n",
        "from sklearn.model_selection import train_test_split\n",
        "from keras.datasets import mnist, cifar10\n",
        "from keras.models import Sequential\n",
        "from keras.layers.core import Dense, Dropout, Activation, Flatten\n",
        "from keras.layers import Conv2D, MaxPooling2D\n",
        "from keras.layers.normalization import BatchNormalization\n",
        "from keras.optimizers import SGD, Adam\n",
        "import numpy as np\n",
        "import matplotlib.pyplot as plt"
      ],
      "execution_count": 1,
      "outputs": [
        {
          "output_type": "stream",
          "text": [
            "Using TensorFlow backend.\n"
          ],
          "name": "stderr"
        }
      ]
    },
    {
      "cell_type": "code",
      "metadata": {
        "id": "GFg_A8s7hUJr",
        "colab_type": "code",
        "colab": {
          "base_uri": "https://localhost:8080/",
          "height": 51
        },
        "outputId": "4c01d428-f474-4ea2-ce42-247891fb3851"
      },
      "source": [
        "(x_train, y_train), (x_test, y_test) = cifar10.load_data()\n",
        "x_train = x_train.astype('float')/255.0\n",
        "x_test = x_test.astype('float')/255.0\n",
        "# x_train = x_train.reshape((x_train.shape[0]), -1)\n",
        "# x_test = x_test.reshape((x_test.shape[0]), -1)"
      ],
      "execution_count": 2,
      "outputs": [
        {
          "output_type": "stream",
          "text": [
            "Downloading data from https://www.cs.toronto.edu/~kriz/cifar-10-python.tar.gz\n",
            "170500096/170498071 [==============================] - 6s 0us/step\n"
          ],
          "name": "stdout"
        }
      ]
    },
    {
      "cell_type": "code",
      "metadata": {
        "id": "OSrdscy1hWW9",
        "colab_type": "code",
        "colab": {}
      },
      "source": [
        "lb = LabelBinarizer()\n",
        "y_train = lb.fit_transform(y_train)\n",
        "y_test = lb.transform(y_test)"
      ],
      "execution_count": 0,
      "outputs": []
    },
    {
      "cell_type": "code",
      "metadata": {
        "id": "wn6Bb2f7heJf",
        "colab_type": "code",
        "colab": {}
      },
      "source": [
        "model = Sequential()\n",
        "model.add(Conv2D(32, (3,3), padding='same', input_shape=x_train.shape[1:]))\n",
        "model.add(Activation('elu'))\n",
        "model.add(BatchNormalization())\n",
        "model.add(Conv2D(64, (3,3), padding='same'))\n",
        "model.add(Activation('elu'))\n",
        "model.add(BatchNormalization())\n",
        "model.add(MaxPooling2D(pool_size=(2,2)))\n",
        "model.add(Flatten())\n",
        "model.add(Dense(16384, activation='elu'))\n",
        "model.add(BatchNormalization())\n",
        "model.add(Dropout(0.4))\n",
        "model.add(Dense(2048, activation='elu'))\n",
        "model.add(Dropout(0.4))\n",
        "model.add(Dense(128, activation='elu'))\n",
        "model.add(Dropout(0.4))\n",
        "model.add(Dense(10, activation='softmax'))"
      ],
      "execution_count": 0,
      "outputs": []
    },
    {
      "cell_type": "code",
      "metadata": {
        "id": "Pbrmb4BRiRUi",
        "colab_type": "code",
        "colab": {
          "base_uri": "https://localhost:8080/",
          "height": 401
        },
        "outputId": "733d3d73-9b9a-457a-be98-285eae79ede1"
      },
      "source": [
        "sgd = SGD(0.01)\n",
        "model.compile(loss=\"categorical_crossentropy\", optimizer=sgd, metrics=[\"accuracy\"])\n",
        "H = model.fit(x_train, y_train, validation_data=(x_test, y_test), epochs=10, batch_size=128)"
      ],
      "execution_count": 8,
      "outputs": [
        {
          "output_type": "stream",
          "text": [
            "Train on 50000 samples, validate on 10000 samples\n",
            "Epoch 1/10\n",
            "50000/50000 [==============================] - 112s 2ms/step - loss: 2.1005 - acc: 0.3902 - val_loss: 1.3847 - val_acc: 0.4961\n",
            "Epoch 2/10\n",
            "50000/50000 [==============================] - 109s 2ms/step - loss: 1.3835 - acc: 0.5214 - val_loss: 1.2572 - val_acc: 0.5690\n",
            "Epoch 3/10\n",
            "50000/50000 [==============================] - 108s 2ms/step - loss: 1.1663 - acc: 0.5854 - val_loss: 1.0296 - val_acc: 0.6417\n",
            "Epoch 4/10\n",
            "50000/50000 [==============================] - 108s 2ms/step - loss: 1.0338 - acc: 0.6324 - val_loss: 0.9720 - val_acc: 0.6617\n",
            "Epoch 5/10\n",
            "50000/50000 [==============================] - 108s 2ms/step - loss: 0.9451 - acc: 0.6622 - val_loss: 0.9583 - val_acc: 0.6619\n",
            "Epoch 6/10\n",
            "50000/50000 [==============================] - 108s 2ms/step - loss: 0.8750 - acc: 0.6880 - val_loss: 0.9428 - val_acc: 0.6831\n",
            "Epoch 7/10\n",
            "50000/50000 [==============================] - 108s 2ms/step - loss: 0.8175 - acc: 0.7079 - val_loss: 0.9829 - val_acc: 0.6645\n",
            "Epoch 8/10\n",
            "50000/50000 [==============================] - 109s 2ms/step - loss: 0.7619 - acc: 0.7251 - val_loss: 0.9226 - val_acc: 0.6896\n",
            "Epoch 9/10\n",
            "50000/50000 [==============================] - 109s 2ms/step - loss: 0.7122 - acc: 0.7446 - val_loss: 0.9789 - val_acc: 0.6679\n",
            "Epoch 10/10\n",
            "50000/50000 [==============================] - 109s 2ms/step - loss: 0.6642 - acc: 0.7592 - val_loss: 0.8936 - val_acc: 0.6996\n"
          ],
          "name": "stdout"
        }
      ]
    },
    {
      "cell_type": "code",
      "metadata": {
        "id": "bjoNSdydsWgO",
        "colab_type": "code",
        "colab": {}
      },
      "source": [
        ""
      ],
      "execution_count": 0,
      "outputs": []
    }
  ]
}